{
 "cells": [
  {
   "cell_type": "markdown",
   "metadata": {},
   "source": [
    "RAG with Chroma and GPT3.5"
   ]
  },
  {
   "cell_type": "code",
   "execution_count": 1,
   "metadata": {},
   "outputs": [],
   "source": [
    "from langchain.document_loaders import PyPDFLoader,CSVLoader\n",
    "from langchain.embeddings.openai import OpenAIEmbeddings\n",
    "from langchain.text_splitter import CharacterTextSplitter, RecursiveCharacterTextSplitter\n",
    "from langchain_openai import ChatOpenAI\n"
   ]
  },
  {
   "cell_type": "code",
   "execution_count": 2,
   "metadata": {},
   "outputs": [],
   "source": [
    "openai_key=''"
   ]
  },
  {
   "cell_type": "markdown",
   "metadata": {},
   "source": [
    "We'll create an instance of the llm model we'll use in the rest of the notebook"
   ]
  },
  {
   "cell_type": "code",
   "execution_count": 3,
   "metadata": {},
   "outputs": [],
   "source": [
    "from langchain_openai import OpenAIEmbeddings,OpenAI\n",
    "llm = OpenAI(model_name=\"gpt-3.5-turbo-instruct\", openai_api_key=openai_key)"
   ]
  },
  {
   "cell_type": "markdown",
   "metadata": {},
   "source": [
    "We'll load a copy of my resume and ask questions based on information from it"
   ]
  },
  {
   "cell_type": "code",
   "execution_count": 4,
   "metadata": {},
   "outputs": [],
   "source": [
    "loader = PyPDFLoader(file_path='Data/RAG_Documents/Lokesh_subramany_resume.pdf')\n",
    "data = loader.load()\n",
    "\n",
    "chunk_size = 200\n",
    "chunk_overlap = 50\n",
    "rc_splitter = RecursiveCharacterTextSplitter(chunk_size=chunk_size,chunk_overlap=chunk_overlap)\n",
    "\n",
    "docs = rc_splitter.split_documents(data)"
   ]
  },
  {
   "cell_type": "markdown",
   "metadata": {},
   "source": [
    "We'll now create an instance of ChromaDB and persist it to disk. Then we'll load the document into the DB with a specified embedding function"
   ]
  },
  {
   "cell_type": "code",
   "execution_count": 5,
   "metadata": {},
   "outputs": [],
   "source": [
    "from langchain_openai import OpenAIEmbeddings,OpenAI\n",
    "from langchain_community.vectorstores import Chroma\n",
    "\n",
    "embedding_function = OpenAIEmbeddings(openai_api_key=openai_key)\n",
    "chromadb = Chroma(persist_directory='Data/Chroma/',embedding_function=embedding_function)\n",
    "chromadb.persist()\n",
    "docstorage = Chroma.from_documents(docs, embedding_function)"
   ]
  },
  {
   "cell_type": "markdown",
   "metadata": {},
   "source": [
    "Now we can ask questions related to the loaded document"
   ]
  },
  {
   "cell_type": "code",
   "execution_count": 10,
   "metadata": {},
   "outputs": [
    {
     "name": "stdout",
     "output_type": "stream",
     "text": [
      "{'query': 'Whose resume is it?', 'result': \" Lokesh Subramany's resume.\"}\n"
     ]
    }
   ],
   "source": [
    "from langchain.chains import RetrievalQA\n",
    "\n",
    "retriever = docstorage.as_retriever()\n",
    "qa = RetrievalQA.from_llm(llm=llm, retriever=retriever)\n",
    "\n",
    "results = qa.invoke('Whose resume is it?')\n",
    "\n",
    "print(results)"
   ]
  },
  {
   "cell_type": "code",
   "execution_count": 11,
   "metadata": {},
   "outputs": [
    {
     "name": "stdout",
     "output_type": "stream",
     "text": [
      "{'answer': ' The resume belongs to Lokesh Subramany.\\n', 'sources': 'Data/RAG_Documents/Lokesh_subramany_resume.pdf'}\n"
     ]
    }
   ],
   "source": [
    "#Showing reference to the document in the response\n",
    "from langchain.chains import RetrievalQAWithSourcesChain\n",
    "\n",
    "qa_source = RetrievalQAWithSourcesChain.from_chain_type(llm=llm, retriever=retriever)\n",
    "\n",
    "results = qa_source.invoke('Whose resume is it?',return_only_outputs=True)\n",
    "print(results)"
   ]
  },
  {
   "cell_type": "code",
   "execution_count": 12,
   "metadata": {},
   "outputs": [
    {
     "name": "stdout",
     "output_type": "stream",
     "text": [
      "{'answer': ' Lokesh last worked at Qualcomm.\\n', 'sources': 'Data/RAG_Documents/Lokesh_subramany_resume.pdf'}\n"
     ]
    }
   ],
   "source": [
    "results = qa_source.invoke(\"What company did lokesh last work\",return_only_outputs=True)\n",
    "print(results)"
   ]
  }
 ],
 "metadata": {
  "kernelspec": {
   "display_name": "Python 3",
   "language": "python",
   "name": "python3"
  },
  "language_info": {
   "codemirror_mode": {
    "name": "ipython",
    "version": 3
   },
   "file_extension": ".py",
   "mimetype": "text/x-python",
   "name": "python",
   "nbconvert_exporter": "python",
   "pygments_lexer": "ipython3",
   "version": "3.10.5"
  }
 },
 "nbformat": 4,
 "nbformat_minor": 2
}
